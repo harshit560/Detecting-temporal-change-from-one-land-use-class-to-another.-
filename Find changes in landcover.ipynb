{
 "cells": [
  {
   "cell_type": "code",
   "execution_count": 1,
   "id": "9885e80b-15d3-480f-9f8a-593b4260451a",
   "metadata": {},
   "outputs": [],
   "source": [
    "import rasterio\n",
    "from rasterio.plot import show\n",
    "import numpy as np\n",
    "\n",
    "# Open raster files\n",
    "with rasterio.open('C:\\\\unzipped\\\\circuitscape_output\\\\circuitscape_output\\\\reclass_1999_img.asc') as src_1999, rasterio.open('C:\\\\unzipped\\\\circuitscape_output\\\\circuitscape_output\\\\reclass_2019_img.asc') as src_2009:\n",
    "    # Read raster data as numpy arrays\n",
    "    raster_1999 = src_1999.read(1)\n",
    "    raster_2009 = src_2009.read(1)\n",
    "\n",
    "    # Identify pixels that changed from class 1 to class 2 and vice versa\n",
    "    changed_1_to_2 = np.logical_and(raster_1999 == 1, raster_2009 == 2)\n",
    "    changed_2_to_1 = np.logical_and(raster_1999 == 2, raster_2009 == 1)\n",
    "\n",
    "    # Combine both changes into one mask\n",
    "    change_mask = np.logical_or(changed_1_to_2, changed_2_to_1).astype(np.uint8)\n",
    "\n",
    "    # Create a new raster file to save the change mask\n",
    "    with rasterio.open('change_mask.tif', 'w', driver='GTiff', width=src_1999.width,\n",
    "                       height=src_1999.height, count=1, dtype=np.uint8,\n",
    "                       crs=src_1999.crs, transform=src_1999.transform) as dst:\n",
    "        # Write the change mask to the new raster file\n",
    "        dst.write(change_mask, 1)\n"
   ]
  },
  {
   "cell_type": "code",
   "execution_count": 2,
   "id": "9507c86e-bb9a-4823-9249-68c00baccf00",
   "metadata": {},
   "outputs": [],
   "source": [
    "import rasterio\n",
    "from rasterio.transform import from_origin\n",
    "import numpy as np\n",
    "\n",
    "# Open raster files\n",
    "with rasterio.open('C:\\\\unzipped\\\\circuitscape_output\\\\circuitscape_output\\\\reclass_1999_img.asc') as src_1999, rasterio.open('C:\\\\unzipped\\\\circuitscape_output\\\\circuitscape_output\\\\reclass_2019_img.asc') as src_2009:\n",
    "    # Read raster data as numpy arrays\n",
    "    raster_1999 = src_1999.read(1)\n",
    "    raster_2009 = src_2009.read(1)\n",
    "\n",
    "    # Identify pixels that changed from class 1 to class 2 and vice versa\n",
    "    changed_1_to_2 = np.logical_and(raster_1999 == 1, raster_2009 == 2)\n",
    "    changed_2_to_1 = np.logical_and(raster_1999 == 2, raster_2009 == 1)\n",
    "\n",
    "    # Create a new raster file for pixels changed from class 1 to class 2\n",
    "    profile_1_to_2 = src_1999.profile.copy()\n",
    "    profile_1_to_2.update(dtype=np.uint8, count=1)\n",
    "    with rasterio.open('1_to_2_change.tif', 'w', **profile_1_to_2) as dst_1_to_2:\n",
    "        dst_1_to_2.write(changed_1_to_2.astype(np.uint8), 1)\n",
    "\n",
    "    # Create a new raster file for pixels changed from class 2 to class 1\n",
    "    profile_2_to_1 = src_1999.profile.copy()\n",
    "    profile_2_to_1.update(dtype=np.uint8, count=1)\n",
    "    with rasterio.open('2_to_1_change.tif', 'w', **profile_2_to_1) as dst_2_to_1:\n",
    "        dst_2_to_1.write(changed_2_to_1.astype(np.uint8), 1)\n"
   ]
  },
  {
   "cell_type": "code",
   "execution_count": null,
   "id": "873341dc-3624-468a-8ba6-7d6d9f194034",
   "metadata": {},
   "outputs": [],
   "source": []
  }
 ],
 "metadata": {
  "kernelspec": {
   "display_name": "Python 3 (ipykernel)",
   "language": "python",
   "name": "python3"
  },
  "language_info": {
   "codemirror_mode": {
    "name": "ipython",
    "version": 3
   },
   "file_extension": ".py",
   "mimetype": "text/x-python",
   "name": "python",
   "nbconvert_exporter": "python",
   "pygments_lexer": "ipython3",
   "version": "3.11.9"
  }
 },
 "nbformat": 4,
 "nbformat_minor": 5
}
